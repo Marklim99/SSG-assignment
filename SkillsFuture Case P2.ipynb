{
 "cells": [
  {
   "cell_type": "markdown",
   "metadata": {
    "id": "JBnwAr14ScOt"
   },
   "source": [
    "# SkillsFuture Case Part 2\n"
   ]
  },
  {
   "cell_type": "code",
   "execution_count": 27,
   "metadata": {
    "executionInfo": {
     "elapsed": 44,
     "status": "ok",
     "timestamp": 1743264375942,
     "user": {
      "displayName": "Mark Lim",
      "userId": "08262862706972220885"
     },
     "user_tz": -480
    },
    "id": "WD3UfPr-SclX"
   },
   "outputs": [],
   "source": [
    "import xgboost as xgb\n",
    "from sklearn.metrics import accuracy_score\n",
    "from sklearn.linear_model import LogisticRegression\n",
    "import pandas as pd\n",
    "import numpy as np\n",
    "import matplotlib.pyplot as plt\n",
    "import seaborn as sns\n",
    "import json\n",
    "import os\n",
    "\n",
    "from collections import Counter\n",
    "from ydata_profiling import ProfileReport\n",
    "\n",
    "\n",
    "from sklearn.feature_selection import chi2, SelectKBest\n",
    "from sklearn.preprocessing import StandardScaler\n",
    "from sklearn.model_selection import cross_val_score, cross_val_predict\n",
    "from sklearn.pipeline import Pipeline\n",
    "from sklearn.model_selection import train_test_split, RepeatedStratifiedKFold, StratifiedKFold\n",
    "from pickle import dump\n",
    "from sklearn.metrics import f1_score, classification_report, confusion_matrix, roc_curve, roc_auc_score, f1_score, make_scorer, accuracy_score, recall_score, precision_score\n",
    "from sklearn.ensemble import GradientBoostingClassifier\n",
    "from sklearn.preprocessing import OneHotEncoder, LabelEncoder"
   ]
  },
  {
   "cell_type": "code",
   "execution_count": 28,
   "metadata": {
    "colab": {
     "base_uri": "https://localhost:8080/"
    },
    "executionInfo": {
     "elapsed": 1369,
     "status": "ok",
     "timestamp": 1743264380075,
     "user": {
      "displayName": "Mark Lim",
      "userId": "08262862706972220885"
     },
     "user_tz": -480
    },
    "id": "3zcvZemZTC4X",
    "outputId": "76bcc7a6-076d-410d-daab-1a133d109446"
   },
   "outputs": [
    {
     "name": "stdout",
     "output_type": "stream",
     "text": [
      "Drive already mounted at /content/drive; to attempt to forcibly remount, call drive.mount(\"/content/drive\", force_remount=True).\n"
     ]
    }
   ],
   "source": [
    "from google.colab import drive\n",
    "drive.mount('/content/drive')\n",
    "os.chdir('/content/drive/MyDrive/SkillsFuture Case/')\n"
   ]
  },
  {
   "cell_type": "code",
   "execution_count": 29,
   "metadata": {
    "executionInfo": {
     "elapsed": 35865,
     "status": "ok",
     "timestamp": 1743264415943,
     "user": {
      "displayName": "Mark Lim",
      "userId": "08262862706972220885"
     },
     "user_tz": -480
    },
    "id": "UbAdQ_s5TLV7"
   },
   "outputs": [],
   "source": [
    "df_test = pd.read_csv('data/fraudTest.csv')\n",
    "df_train = pd.read_csv('data/fraudTrain.csv')"
   ]
  },
  {
   "cell_type": "code",
   "execution_count": 30,
   "metadata": {
    "colab": {
     "base_uri": "https://localhost:8080/"
    },
    "executionInfo": {
     "elapsed": 38,
     "status": "ok",
     "timestamp": 1743264415999,
     "user": {
      "displayName": "Mark Lim",
      "userId": "08262862706972220885"
     },
     "user_tz": -480
    },
    "id": "uCGgy4uhTWgw",
    "outputId": "497aaee2-a614-4c02-e1a7-440c2f73f4f0"
   },
   "outputs": [
    {
     "name": "stdout",
     "output_type": "stream",
     "text": [
      "is_fraud\n",
      "0    1289169\n",
      "1       7506\n",
      "Name: count, dtype: int64\n",
      "is_fraud\n",
      "0    553574\n",
      "1      2145\n",
      "Name: count, dtype: int64\n"
     ]
    }
   ],
   "source": [
    "print(df_train.is_fraud.value_counts())\n",
    "print(df_test.is_fraud.value_counts())"
   ]
  },
  {
   "cell_type": "code",
   "execution_count": 31,
   "metadata": {
    "colab": {
     "base_uri": "https://localhost:8080/",
     "height": 125
    },
    "executionInfo": {
     "elapsed": 91,
     "status": "ok",
     "timestamp": 1743264419518,
     "user": {
      "displayName": "Mark Lim",
      "userId": "08262862706972220885"
     },
     "user_tz": -480
    },
    "id": "Yvq1nmm5TxYm",
    "outputId": "d5897921-5616-4222-da6c-b252f4383e47"
   },
   "outputs": [
    {
     "data": {
      "application/vnd.google.colaboratory.intrinsic+json": {
       "summary": "{\n  \"name\": \"is_fraud_counts\",\n  \"rows\": 2,\n  \"fields\": [\n    {\n      \"column\": \"is_fraud\",\n      \"properties\": {\n        \"dtype\": \"number\",\n        \"std\": 0,\n        \"min\": 0,\n        \"max\": 1,\n        \"num_unique_values\": 2,\n        \"samples\": [\n          1,\n          0\n        ],\n        \"semantic_type\": \"\",\n        \"description\": \"\"\n      }\n    },\n    {\n      \"column\": \"Count\",\n      \"properties\": {\n        \"dtype\": \"number\",\n        \"std\": 906272,\n        \"min\": 7506,\n        \"max\": 1289169,\n        \"num_unique_values\": 2,\n        \"samples\": [\n          7506,\n          1289169\n        ],\n        \"semantic_type\": \"\",\n        \"description\": \"\"\n      }\n    },\n    {\n      \"column\": \"Percentage\",\n      \"properties\": {\n        \"dtype\": \"number\",\n        \"std\": 69.8920391382493,\n        \"min\": 0.5788651743883394,\n        \"max\": 99.42113482561166,\n        \"num_unique_values\": 2,\n        \"samples\": [\n          0.5788651743883394,\n          99.42113482561166\n        ],\n        \"semantic_type\": \"\",\n        \"description\": \"\"\n      }\n    }\n  ]\n}",
       "type": "dataframe",
       "variable_name": "is_fraud_counts"
      },
      "text/html": [
       "\n",
       "  <div id=\"df-cf0596e7-33ac-4006-81a9-e187042eb497\" class=\"colab-df-container\">\n",
       "    <div>\n",
       "<style scoped>\n",
       "    .dataframe tbody tr th:only-of-type {\n",
       "        vertical-align: middle;\n",
       "    }\n",
       "\n",
       "    .dataframe tbody tr th {\n",
       "        vertical-align: top;\n",
       "    }\n",
       "\n",
       "    .dataframe thead th {\n",
       "        text-align: right;\n",
       "    }\n",
       "</style>\n",
       "<table border=\"1\" class=\"dataframe\">\n",
       "  <thead>\n",
       "    <tr style=\"text-align: right;\">\n",
       "      <th></th>\n",
       "      <th>is_fraud</th>\n",
       "      <th>Count</th>\n",
       "      <th>Percentage</th>\n",
       "    </tr>\n",
       "  </thead>\n",
       "  <tbody>\n",
       "    <tr>\n",
       "      <th>0</th>\n",
       "      <td>0</td>\n",
       "      <td>1289169</td>\n",
       "      <td>99.421135</td>\n",
       "    </tr>\n",
       "    <tr>\n",
       "      <th>1</th>\n",
       "      <td>1</td>\n",
       "      <td>7506</td>\n",
       "      <td>0.578865</td>\n",
       "    </tr>\n",
       "  </tbody>\n",
       "</table>\n",
       "</div>\n",
       "    <div class=\"colab-df-buttons\">\n",
       "\n",
       "  <div class=\"colab-df-container\">\n",
       "    <button class=\"colab-df-convert\" onclick=\"convertToInteractive('df-cf0596e7-33ac-4006-81a9-e187042eb497')\"\n",
       "            title=\"Convert this dataframe to an interactive table.\"\n",
       "            style=\"display:none;\">\n",
       "\n",
       "  <svg xmlns=\"http://www.w3.org/2000/svg\" height=\"24px\" viewBox=\"0 -960 960 960\">\n",
       "    <path d=\"M120-120v-720h720v720H120Zm60-500h600v-160H180v160Zm220 220h160v-160H400v160Zm0 220h160v-160H400v160ZM180-400h160v-160H180v160Zm440 0h160v-160H620v160ZM180-180h160v-160H180v160Zm440 0h160v-160H620v160Z\"/>\n",
       "  </svg>\n",
       "    </button>\n",
       "\n",
       "  <style>\n",
       "    .colab-df-container {\n",
       "      display:flex;\n",
       "      gap: 12px;\n",
       "    }\n",
       "\n",
       "    .colab-df-convert {\n",
       "      background-color: #E8F0FE;\n",
       "      border: none;\n",
       "      border-radius: 50%;\n",
       "      cursor: pointer;\n",
       "      display: none;\n",
       "      fill: #1967D2;\n",
       "      height: 32px;\n",
       "      padding: 0 0 0 0;\n",
       "      width: 32px;\n",
       "    }\n",
       "\n",
       "    .colab-df-convert:hover {\n",
       "      background-color: #E2EBFA;\n",
       "      box-shadow: 0px 1px 2px rgba(60, 64, 67, 0.3), 0px 1px 3px 1px rgba(60, 64, 67, 0.15);\n",
       "      fill: #174EA6;\n",
       "    }\n",
       "\n",
       "    .colab-df-buttons div {\n",
       "      margin-bottom: 4px;\n",
       "    }\n",
       "\n",
       "    [theme=dark] .colab-df-convert {\n",
       "      background-color: #3B4455;\n",
       "      fill: #D2E3FC;\n",
       "    }\n",
       "\n",
       "    [theme=dark] .colab-df-convert:hover {\n",
       "      background-color: #434B5C;\n",
       "      box-shadow: 0px 1px 3px 1px rgba(0, 0, 0, 0.15);\n",
       "      filter: drop-shadow(0px 1px 2px rgba(0, 0, 0, 0.3));\n",
       "      fill: #FFFFFF;\n",
       "    }\n",
       "  </style>\n",
       "\n",
       "    <script>\n",
       "      const buttonEl =\n",
       "        document.querySelector('#df-cf0596e7-33ac-4006-81a9-e187042eb497 button.colab-df-convert');\n",
       "      buttonEl.style.display =\n",
       "        google.colab.kernel.accessAllowed ? 'block' : 'none';\n",
       "\n",
       "      async function convertToInteractive(key) {\n",
       "        const element = document.querySelector('#df-cf0596e7-33ac-4006-81a9-e187042eb497');\n",
       "        const dataTable =\n",
       "          await google.colab.kernel.invokeFunction('convertToInteractive',\n",
       "                                                    [key], {});\n",
       "        if (!dataTable) return;\n",
       "\n",
       "        const docLinkHtml = 'Like what you see? Visit the ' +\n",
       "          '<a target=\"_blank\" href=https://colab.research.google.com/notebooks/data_table.ipynb>data table notebook</a>'\n",
       "          + ' to learn more about interactive tables.';\n",
       "        element.innerHTML = '';\n",
       "        dataTable['output_type'] = 'display_data';\n",
       "        await google.colab.output.renderOutput(dataTable, element);\n",
       "        const docLink = document.createElement('div');\n",
       "        docLink.innerHTML = docLinkHtml;\n",
       "        element.appendChild(docLink);\n",
       "      }\n",
       "    </script>\n",
       "  </div>\n",
       "\n",
       "\n",
       "<div id=\"df-b44d302e-851a-4a4a-b935-8d9b419cc2db\">\n",
       "  <button class=\"colab-df-quickchart\" onclick=\"quickchart('df-b44d302e-851a-4a4a-b935-8d9b419cc2db')\"\n",
       "            title=\"Suggest charts\"\n",
       "            style=\"display:none;\">\n",
       "\n",
       "<svg xmlns=\"http://www.w3.org/2000/svg\" height=\"24px\"viewBox=\"0 0 24 24\"\n",
       "     width=\"24px\">\n",
       "    <g>\n",
       "        <path d=\"M19 3H5c-1.1 0-2 .9-2 2v14c0 1.1.9 2 2 2h14c1.1 0 2-.9 2-2V5c0-1.1-.9-2-2-2zM9 17H7v-7h2v7zm4 0h-2V7h2v10zm4 0h-2v-4h2v4z\"/>\n",
       "    </g>\n",
       "</svg>\n",
       "  </button>\n",
       "\n",
       "<style>\n",
       "  .colab-df-quickchart {\n",
       "      --bg-color: #E8F0FE;\n",
       "      --fill-color: #1967D2;\n",
       "      --hover-bg-color: #E2EBFA;\n",
       "      --hover-fill-color: #174EA6;\n",
       "      --disabled-fill-color: #AAA;\n",
       "      --disabled-bg-color: #DDD;\n",
       "  }\n",
       "\n",
       "  [theme=dark] .colab-df-quickchart {\n",
       "      --bg-color: #3B4455;\n",
       "      --fill-color: #D2E3FC;\n",
       "      --hover-bg-color: #434B5C;\n",
       "      --hover-fill-color: #FFFFFF;\n",
       "      --disabled-bg-color: #3B4455;\n",
       "      --disabled-fill-color: #666;\n",
       "  }\n",
       "\n",
       "  .colab-df-quickchart {\n",
       "    background-color: var(--bg-color);\n",
       "    border: none;\n",
       "    border-radius: 50%;\n",
       "    cursor: pointer;\n",
       "    display: none;\n",
       "    fill: var(--fill-color);\n",
       "    height: 32px;\n",
       "    padding: 0;\n",
       "    width: 32px;\n",
       "  }\n",
       "\n",
       "  .colab-df-quickchart:hover {\n",
       "    background-color: var(--hover-bg-color);\n",
       "    box-shadow: 0 1px 2px rgba(60, 64, 67, 0.3), 0 1px 3px 1px rgba(60, 64, 67, 0.15);\n",
       "    fill: var(--button-hover-fill-color);\n",
       "  }\n",
       "\n",
       "  .colab-df-quickchart-complete:disabled,\n",
       "  .colab-df-quickchart-complete:disabled:hover {\n",
       "    background-color: var(--disabled-bg-color);\n",
       "    fill: var(--disabled-fill-color);\n",
       "    box-shadow: none;\n",
       "  }\n",
       "\n",
       "  .colab-df-spinner {\n",
       "    border: 2px solid var(--fill-color);\n",
       "    border-color: transparent;\n",
       "    border-bottom-color: var(--fill-color);\n",
       "    animation:\n",
       "      spin 1s steps(1) infinite;\n",
       "  }\n",
       "\n",
       "  @keyframes spin {\n",
       "    0% {\n",
       "      border-color: transparent;\n",
       "      border-bottom-color: var(--fill-color);\n",
       "      border-left-color: var(--fill-color);\n",
       "    }\n",
       "    20% {\n",
       "      border-color: transparent;\n",
       "      border-left-color: var(--fill-color);\n",
       "      border-top-color: var(--fill-color);\n",
       "    }\n",
       "    30% {\n",
       "      border-color: transparent;\n",
       "      border-left-color: var(--fill-color);\n",
       "      border-top-color: var(--fill-color);\n",
       "      border-right-color: var(--fill-color);\n",
       "    }\n",
       "    40% {\n",
       "      border-color: transparent;\n",
       "      border-right-color: var(--fill-color);\n",
       "      border-top-color: var(--fill-color);\n",
       "    }\n",
       "    60% {\n",
       "      border-color: transparent;\n",
       "      border-right-color: var(--fill-color);\n",
       "    }\n",
       "    80% {\n",
       "      border-color: transparent;\n",
       "      border-right-color: var(--fill-color);\n",
       "      border-bottom-color: var(--fill-color);\n",
       "    }\n",
       "    90% {\n",
       "      border-color: transparent;\n",
       "      border-bottom-color: var(--fill-color);\n",
       "    }\n",
       "  }\n",
       "</style>\n",
       "\n",
       "  <script>\n",
       "    async function quickchart(key) {\n",
       "      const quickchartButtonEl =\n",
       "        document.querySelector('#' + key + ' button');\n",
       "      quickchartButtonEl.disabled = true;  // To prevent multiple clicks.\n",
       "      quickchartButtonEl.classList.add('colab-df-spinner');\n",
       "      try {\n",
       "        const charts = await google.colab.kernel.invokeFunction(\n",
       "            'suggestCharts', [key], {});\n",
       "      } catch (error) {\n",
       "        console.error('Error during call to suggestCharts:', error);\n",
       "      }\n",
       "      quickchartButtonEl.classList.remove('colab-df-spinner');\n",
       "      quickchartButtonEl.classList.add('colab-df-quickchart-complete');\n",
       "    }\n",
       "    (() => {\n",
       "      let quickchartButtonEl =\n",
       "        document.querySelector('#df-b44d302e-851a-4a4a-b935-8d9b419cc2db button');\n",
       "      quickchartButtonEl.style.display =\n",
       "        google.colab.kernel.accessAllowed ? 'block' : 'none';\n",
       "    })();\n",
       "  </script>\n",
       "</div>\n",
       "\n",
       "  <div id=\"id_230dbdc9-bcf4-43db-903f-b6d30176f181\">\n",
       "    <style>\n",
       "      .colab-df-generate {\n",
       "        background-color: #E8F0FE;\n",
       "        border: none;\n",
       "        border-radius: 50%;\n",
       "        cursor: pointer;\n",
       "        display: none;\n",
       "        fill: #1967D2;\n",
       "        height: 32px;\n",
       "        padding: 0 0 0 0;\n",
       "        width: 32px;\n",
       "      }\n",
       "\n",
       "      .colab-df-generate:hover {\n",
       "        background-color: #E2EBFA;\n",
       "        box-shadow: 0px 1px 2px rgba(60, 64, 67, 0.3), 0px 1px 3px 1px rgba(60, 64, 67, 0.15);\n",
       "        fill: #174EA6;\n",
       "      }\n",
       "\n",
       "      [theme=dark] .colab-df-generate {\n",
       "        background-color: #3B4455;\n",
       "        fill: #D2E3FC;\n",
       "      }\n",
       "\n",
       "      [theme=dark] .colab-df-generate:hover {\n",
       "        background-color: #434B5C;\n",
       "        box-shadow: 0px 1px 3px 1px rgba(0, 0, 0, 0.15);\n",
       "        filter: drop-shadow(0px 1px 2px rgba(0, 0, 0, 0.3));\n",
       "        fill: #FFFFFF;\n",
       "      }\n",
       "    </style>\n",
       "    <button class=\"colab-df-generate\" onclick=\"generateWithVariable('is_fraud_counts')\"\n",
       "            title=\"Generate code using this dataframe.\"\n",
       "            style=\"display:none;\">\n",
       "\n",
       "  <svg xmlns=\"http://www.w3.org/2000/svg\" height=\"24px\"viewBox=\"0 0 24 24\"\n",
       "       width=\"24px\">\n",
       "    <path d=\"M7,19H8.4L18.45,9,17,7.55,7,17.6ZM5,21V16.75L18.45,3.32a2,2,0,0,1,2.83,0l1.4,1.43a1.91,1.91,0,0,1,.58,1.4,1.91,1.91,0,0,1-.58,1.4L9.25,21ZM18.45,9,17,7.55Zm-12,3A5.31,5.31,0,0,0,4.9,8.1,5.31,5.31,0,0,0,1,6.5,5.31,5.31,0,0,0,4.9,4.9,5.31,5.31,0,0,0,6.5,1,5.31,5.31,0,0,0,8.1,4.9,5.31,5.31,0,0,0,12,6.5,5.46,5.46,0,0,0,6.5,12Z\"/>\n",
       "  </svg>\n",
       "    </button>\n",
       "    <script>\n",
       "      (() => {\n",
       "      const buttonEl =\n",
       "        document.querySelector('#id_230dbdc9-bcf4-43db-903f-b6d30176f181 button.colab-df-generate');\n",
       "      buttonEl.style.display =\n",
       "        google.colab.kernel.accessAllowed ? 'block' : 'none';\n",
       "\n",
       "      buttonEl.onclick = () => {\n",
       "        google.colab.notebook.generateWithVariable('is_fraud_counts');\n",
       "      }\n",
       "      })();\n",
       "    </script>\n",
       "  </div>\n",
       "\n",
       "    </div>\n",
       "  </div>\n"
      ],
      "text/plain": [
       "   is_fraud    Count  Percentage\n",
       "0         0  1289169   99.421135\n",
       "1         1     7506    0.578865"
      ]
     },
     "execution_count": 31,
     "metadata": {},
     "output_type": "execute_result"
    }
   ],
   "source": [
    "is_fraud_counts = df_train.is_fraud.value_counts().reset_index(name=\"Count\").rename(columns={'index':'is_fraud'})\n",
    "is_fraud_counts[is_fraud_counts[\"is_fraud\"] == 1.0].Count\n",
    "is_fraud_counts[\"Percentage\"] = is_fraud_counts[\"Count\"]/len(df_train) * 100\n",
    "is_fraud_counts"
   ]
  },
  {
   "cell_type": "markdown",
   "metadata": {
    "id": "FmadGZfNUGY8"
   },
   "source": [
    "## EDA\n",
    "\n",
    "Doing Basic EDA and feature selection"
   ]
  },
  {
   "cell_type": "code",
   "execution_count": 9,
   "metadata": {
    "colab": {
     "base_uri": "https://localhost:8080/"
    },
    "executionInfo": {
     "elapsed": 4154,
     "status": "ok",
     "timestamp": 1743263711030,
     "user": {
      "displayName": "Mark Lim",
      "userId": "08262862706972220885"
     },
     "user_tz": -480
    },
    "id": "eoehUejZUb-e",
    "outputId": "199d3295-c690-4903-881e-29dec200ae5b"
   },
   "outputs": [
    {
     "name": "stdout",
     "output_type": "stream",
     "text": [
      "Unnamed: 0               0\n",
      "trans_date_trans_time    0\n",
      "cc_num                   0\n",
      "merchant                 0\n",
      "category                 0\n",
      "amt                      0\n",
      "first                    0\n",
      "last                     0\n",
      "gender                   0\n",
      "street                   0\n",
      "city                     0\n",
      "state                    0\n",
      "zip                      0\n",
      "lat                      0\n",
      "long                     0\n",
      "city_pop                 0\n",
      "job                      0\n",
      "dob                      0\n",
      "trans_num                0\n",
      "unix_time                0\n",
      "merch_lat                0\n",
      "merch_long               0\n",
      "is_fraud                 0\n",
      "dtype: int64\n"
     ]
    }
   ],
   "source": [
    "print(df_train.isnull().sum())\n"
   ]
  },
  {
   "cell_type": "code",
   "execution_count": 32,
   "metadata": {
    "colab": {
     "base_uri": "https://localhost:8080/"
    },
    "executionInfo": {
     "elapsed": 346,
     "status": "ok",
     "timestamp": 1743264424719,
     "user": {
      "displayName": "Mark Lim",
      "userId": "08262862706972220885"
     },
     "user_tz": -480
    },
    "id": "mlP4b6PMU7h_",
    "outputId": "0dbb5385-8afd-4825-efb4-2a6db670af9a"
   },
   "outputs": [
    {
     "name": "stdout",
     "output_type": "stream",
     "text": [
      "Unnamed: 0                        int64\n",
      "trans_date_trans_time    datetime64[ns]\n",
      "cc_num                            int64\n",
      "merchant                         object\n",
      "category                         object\n",
      "amt                             float64\n",
      "first                            object\n",
      "last                             object\n",
      "gender                           object\n",
      "street                           object\n",
      "city                             object\n",
      "state                            object\n",
      "zip                               int64\n",
      "lat                             float64\n",
      "long                            float64\n",
      "city_pop                          int64\n",
      "job                              object\n",
      "dob                      datetime64[ns]\n",
      "trans_num                        object\n",
      "unix_time                         int64\n",
      "merch_lat                       float64\n",
      "merch_long                      float64\n",
      "is_fraud                          int64\n",
      "age                               int64\n",
      "dtype: object\n"
     ]
    }
   ],
   "source": [
    "df_train['trans_date_trans_time'] = pd.to_datetime(df_train['trans_date_trans_time'])\n",
    "\n",
    "# Convert dob to datetime and extract age\n",
    "df_train['dob'] = pd.to_datetime(df_train['dob'])\n",
    "df_train['age'] = (pd.to_datetime('today') - df_train['dob']).dt.days // 365\n",
    "\n",
    "# Check the data types\n",
    "print(df_train.dtypes)"
   ]
  },
  {
   "cell_type": "code",
   "execution_count": 33,
   "metadata": {
    "executionInfo": {
     "elapsed": 561,
     "status": "ok",
     "timestamp": 1743264427023,
     "user": {
      "displayName": "Mark Lim",
      "userId": "08262862706972220885"
     },
     "user_tz": -480
    },
    "id": "wok3iEiDpnHa"
   },
   "outputs": [],
   "source": [
    "df_test['trans_date_trans_time'] = pd.to_datetime(df_test['trans_date_trans_time'])\n",
    "\n",
    "# Convert dob to datetime and extract age\n",
    "df_test['dob'] = pd.to_datetime(df_test['dob'])\n",
    "df_test['age'] = (pd.to_datetime('today') - df_test['dob']).dt.days // 365"
   ]
  },
  {
   "cell_type": "code",
   "execution_count": 11,
   "metadata": {
    "colab": {
     "base_uri": "https://localhost:8080/"
    },
    "executionInfo": {
     "elapsed": 427,
     "status": "ok",
     "timestamp": 1743263713374,
     "user": {
      "displayName": "Mark Lim",
      "userId": "08262862706972220885"
     },
     "user_tz": -480
    },
    "id": "70rGDO2akZR1",
    "outputId": "b30b210f-6fdc-4fba-d4bb-80ee27d78f18"
   },
   "outputs": [
    {
     "name": "stdout",
     "output_type": "stream",
     "text": [
      "Monthly statistics:\n",
      "                       total_transactions  fraud_cases  fraud_rate_percent\n",
      "trans_date_trans_time                                                     \n",
      "2019-01                           52525.0        506.0            0.963351\n",
      "2019-02                           49866.0        517.0            1.036779\n",
      "2019-03                           70939.0        494.0            0.696373\n",
      "2019-04                           68078.0        376.0            0.552308\n",
      "2019-05                           72532.0        408.0            0.562510\n",
      "2019-06                           86064.0        354.0            0.411322\n",
      "2019-07                           86596.0        331.0            0.382235\n",
      "2019-08                           87359.0        382.0            0.437276\n",
      "2019-09                           70652.0        418.0            0.591632\n",
      "2019-10                           68758.0        454.0            0.660287\n",
      "2019-11                           70421.0        388.0            0.550972\n",
      "2019-12                          141060.0        592.0            0.419680\n",
      "2020-01                           52202.0        343.0            0.657063\n",
      "2020-02                           47791.0        336.0            0.703061\n",
      "2020-03                           72850.0        444.0            0.609472\n",
      "2020-04                           66892.0        302.0            0.451474\n",
      "2020-05                           74343.0        527.0            0.708876\n",
      "2020-06                           57747.0        334.0            0.578385\n",
      "Average                           72037.5        417.0            0.609614\n",
      "\n",
      "Overall fraud rate: 0.58%\n",
      "Average monthly transactions: 72037.50\n",
      "Average monthly fraud cases: 417.00\n",
      "Average monthly fraud rate: 0.61%\n"
     ]
    }
   ],
   "source": [
    "# Group by month and count total transactions\n",
    "transactions_per_month = df_train.groupby(df_train['trans_date_trans_time'].dt.to_period('M')).size()\n",
    "\n",
    "fraud_cases_per_month = df_train.groupby(df_train['trans_date_trans_time'].dt.to_period('M'))['is_fraud'].sum()\n",
    "\n",
    "fraud_rate_per_month = (fraud_cases_per_month / transactions_per_month) * 100\n",
    "\n",
    "monthly_stats = pd.DataFrame({\n",
    "    'total_transactions': transactions_per_month,\n",
    "    'fraud_cases': fraud_cases_per_month,\n",
    "    'fraud_rate_percent': fraud_rate_per_month\n",
    "})\n",
    "\n",
    "# Calculate averages across months\n",
    "avg_transactions_per_month = transactions_per_month.mean()\n",
    "avg_fraud_cases_per_month = fraud_cases_per_month.mean()\n",
    "avg_fraud_rate_per_month = fraud_rate_per_month.mean()\n",
    "\n",
    "# Add average row to the DataFrame\n",
    "monthly_stats.loc['Average'] = [avg_transactions_per_month, avg_fraud_cases_per_month, avg_fraud_rate_per_month]\n",
    "\n",
    "print(\"Monthly statistics:\")\n",
    "print(monthly_stats)\n",
    "\n",
    "# Calculate overall fraud rate (across entire dataset)\n",
    "overall_fraud_rate = (df_train['is_fraud'].sum() / len(df_train)) * 100\n",
    "print(f\"\\nOverall fraud rate: {overall_fraud_rate:.2f}%\")\n",
    "print(f\"Average monthly transactions: {avg_transactions_per_month:.2f}\")\n",
    "print(f\"Average monthly fraud cases: {avg_fraud_cases_per_month:.2f}\")\n",
    "print(f\"Average monthly fraud rate: {avg_fraud_rate_per_month:.2f}%\")"
   ]
  },
  {
   "cell_type": "markdown",
   "metadata": {
    "id": "HHgUYcz4kwna"
   },
   "source": [
    "Given that the high number of transactions and low number of fraud cases\n",
    "\n",
    "If we prioritize recall (trying to catch all fraud cases):\n",
    "\n",
    "We would generate too many alerts (including many false positives)\n",
    "With 1000 investigation capacity and 72,000+ transactions, We can only investigate about 1.4% of all transactions\n",
    "This would quickly exhaust your investigation resources on many non-fraudulent cases\n",
    "\n",
    "Thus our model should focus on **precision**"
   ]
  },
  {
   "cell_type": "code",
   "execution_count": 22,
   "metadata": {
    "colab": {
     "base_uri": "https://localhost:8080/",
     "height": 1000
    },
    "executionInfo": {
     "elapsed": 8785,
     "status": "ok",
     "timestamp": 1743263240193,
     "user": {
      "displayName": "Mark Lim",
      "userId": "08262862706972220885"
     },
     "user_tz": -480
    },
    "id": "dTlht1WcVODx",
    "outputId": "e9c260dd-b3c8-4a40-ca0e-24d31d9105d8"
   },
   "outputs": [
    {
     "data": {
      "image/png": "[encoded data removed]",
      "text/plain": [
       "<Figure size 640x480 with 1 Axes>"
      ]
     },
     "metadata": {},
     "output_type": "display_data"
    },
    {
     "data": {
      "image/png": "[encoded data removed]",
      "text/plain": [
       "<Figure size 640x480 with 1 Axes>"
      ]
     },
     "metadata": {},
     "output_type": "display_data"
    },
    {
     "data": {
      "image/png": "[encoded data removed]",
      "text/plain": [
       "<Figure size 640x480 with 1 Axes>"
      ]
     },
     "metadata": {},
     "output_type": "display_data"
    }
   ],
   "source": [
    "# Check unique values and their distribution\n",
    "# print(df_train['category'].value_counts())\n",
    "# print(df_train['gender'].value_counts())\n",
    "# print(df_train['state'].value_counts())\n",
    "\n",
    "\n",
    "# Plot the distribution of categorical features with respect to the target\n",
    "sns.countplot(x='category', hue='is_fraud', data=df_train)\n",
    "plt.xticks(rotation=90)\n",
    "plt.show()\n",
    "\n",
    "\n",
    "sns.countplot(x='gender', hue='is_fraud', data=df_train)\n",
    "plt.xticks(rotation=90)\n",
    "plt.show()\n",
    "\n",
    "\n",
    "sns.countplot(x='state', hue='is_fraud', data=df_train)\n",
    "plt.xticks(rotation=90)\n",
    "plt.show()"
   ]
  },
  {
   "cell_type": "code",
   "execution_count": 11,
   "metadata": {
    "colab": {
     "base_uri": "https://localhost:8080/",
     "height": 1000,
     "output_embedded_package_id": "1I4TXxE0KbLvsEb3pFvNhFPy0FMluubep",
     "referenced_widgets": [
      "2dc470b5fa944ea1978ea658f562cfc0",
      "38c430631d26406b8c32dc0e85473d91",
      "c4b17b8e75a2456fbb2415cddf686ede",
      "b57dd90c7eaa4675a75df4722b8c2898",
      "e29163cd3c5c430590e0ebfe76573401",
      "13788788d33d45d69f351cad0620b374",
      "808e67da34074aa99f8cc2285bd5bc7b",
      "dffff68ea52349e9a79add3ab22542b7",
      "b292bc49b3d24a68b312bae165394300",
      "2641a0042e8a4a558b2394299ab64edf",
      "947e7d81b3fe40ffbe8183e80e25463f",
      "798cbe85eea645bfadee479f987902cc",
      "31293fd7b0814ce3bfcd208d63841f2e",
      "6969b087bed34247b3b5647678353fb9",
      "94f138344f654ad1933e36e8d8f61e7f",
      "9a8dd154e8c74a3c86ff2cc04b08696d",
      "537d5557f8f64dc8807cb9fcbd929287",
      "f64d1f0b9de74880b40ac381ff755aea",
      "7dee6530496242f0ab6301ce66926e12",
      "6438af506d5544a29f73198467ba3819",
      "ab3ad6f0acb34daf82ba8748b9bb909f",
      "923e4054d6304dc296a5feff15d213da",
      "8e4091e53c584ce68286868bf586b0da",
      "7e602b351399455e970a9b555f6f0f15",
      "8ddee1de815d4e0b98bbc282b3817e6f",
      "a853bb3151aa4fba915c0b41921628df",
      "1a79fac40b8b4bc986fbd53068f1b94b",
      "a120adc105b84ad7b9b972800b9b51a0",
      "f26bd1fb49214766ad23c9558d4abb22",
      "e364470e218d4840a1cc6ca38cd8ebe2",
      "8ed2d78bbcdb45cc84899bcd66718115",
      "c2ec9f09d59e476f87150488673b5d5d",
      "9a083736a93b466fb47eb86b4a927bc0"
     ]
    },
    "executionInfo": {
     "elapsed": 124758,
     "status": "ok",
     "timestamp": 1743262516605,
     "user": {
      "displayName": "Mark Lim",
      "userId": "08262862706972220885"
     },
     "user_tz": -480
    },
    "id": "b0ydbr3YZ9nC",
    "outputId": "77fb96dc-35a9-47f8-ae2a-3c2b4d56814a"
   },
   "outputs": [
    {
     "data": {
      "text/plain": [
       "Output hidden; open in https://colab.research.google.com to view."
      ]
     },
     "metadata": {},
     "output_type": "display_data"
    }
   ],
   "source": [
    "df_train_profile = ProfileReport(df_train)\n",
    "df_train_profile"
   ]
  },
  {
   "cell_type": "markdown",
   "metadata": {
    "id": "o837JPv0if9J"
   },
   "source": [
    "Given that certain features have high cardinality and high correlation, we drop them from further consideration"
   ]
  },
  {
   "cell_type": "code",
   "execution_count": 34,
   "metadata": {
    "executionInfo": {
     "elapsed": 376,
     "status": "ok",
     "timestamp": 1743264434282,
     "user": {
      "displayName": "Mark Lim",
      "userId": "08262862706972220885"
     },
     "user_tz": -480
    },
    "id": "8SH-VS3waSRP"
   },
   "outputs": [],
   "source": [
    "# Drop features with high correlation\n",
    "df_train.drop([\"Unnamed: 0\",\"long\", \"lat\", \"merch_long\", \"merch_lat\", \"zip\", \"unix_time\",\"cc_num\",\"city_pop\"], axis=1, inplace=True)\n",
    "\n",
    "# Drop features with high cardinality and non-useful\n",
    "df_train.drop([\"trans_date_trans_time\", 'first','last','street','dob','trans_num'], axis=1, inplace=True)\n",
    "\n",
    "df_test.drop([\"Unnamed: 0\",\"long\", \"lat\", \"merch_long\", \"merch_lat\", \"zip\", \"unix_time\",\"cc_num\",\"city_pop\",\n",
    "              \"trans_date_trans_time\", 'first','last','street','dob','trans_num'], axis=1, inplace=True)\n"
   ]
  },
  {
   "cell_type": "code",
   "execution_count": 35,
   "metadata": {
    "executionInfo": {
     "elapsed": 2166,
     "status": "ok",
     "timestamp": 1743264437214,
     "user": {
      "displayName": "Mark Lim",
      "userId": "08262862706972220885"
     },
     "user_tz": -480
    },
    "id": "LvpTxL7YjUuO"
   },
   "outputs": [],
   "source": [
    "categ = ['merchant', 'category', 'gender', 'city', 'state', 'job']\n",
    "# Encode categorical columns\n",
    "le = LabelEncoder()\n",
    "df_train[categ] = df_train[categ].apply(le.fit_transform)\n",
    "df_test[categ] = df_test[categ].apply(le.fit_transform)"
   ]
  },
  {
   "cell_type": "markdown",
   "metadata": {
    "id": "cJtU0H3jjYFD"
   },
   "source": [
    "## Logistic Regression\n",
    "\n",
    "We build a baseline logistic regression model to check baseline precision and recall"
   ]
  },
  {
   "cell_type": "code",
   "execution_count": 36,
   "metadata": {
    "colab": {
     "base_uri": "https://localhost:8080/"
    },
    "executionInfo": {
     "elapsed": 299,
     "status": "ok",
     "timestamp": 1743264437516,
     "user": {
      "displayName": "Mark Lim",
      "userId": "08262862706972220885"
     },
     "user_tz": -480
    },
    "id": "YsMdUsNZl7SM",
    "outputId": "67cb48f8-803f-416c-f86b-710472666edd"
   },
   "outputs": [
    {
     "name": "stdout",
     "output_type": "stream",
     "text": [
      "Counter({0: 1289169, 1: 7506})\n",
      "Counter({0: 553574, 1: 2145})\n"
     ]
    }
   ],
   "source": [
    "X_train = df_train.drop(columns=['is_fraud'])\n",
    "y_train = df_train['is_fraud']\n",
    "print(Counter(y_train))\n",
    "\n",
    "X_test = df_test.drop(columns=['is_fraud'])\n",
    "y_test = df_test['is_fraud']\n",
    "print(Counter(y_test))"
   ]
  },
  {
   "cell_type": "code",
   "execution_count": 37,
   "metadata": {
    "executionInfo": {
     "elapsed": 11,
     "status": "ok",
     "timestamp": 1743264439666,
     "user": {
      "displayName": "Mark Lim",
      "userId": "08262862706972220885"
     },
     "user_tz": -480
    },
    "id": "JD-ZjluxpShB"
   },
   "outputs": [],
   "source": [
    "from sklearn.linear_model import LogisticRegression\n",
    "from sklearn.metrics import classification_report, confusion_matrix, precision_recall_curve"
   ]
  },
  {
   "cell_type": "code",
   "execution_count": 41,
   "metadata": {
    "colab": {
     "base_uri": "https://localhost:8080/"
    },
    "executionInfo": {
     "elapsed": 25894,
     "status": "ok",
     "timestamp": 1743264913130,
     "user": {
      "displayName": "Mark Lim",
      "userId": "08262862706972220885"
     },
     "user_tz": -480
    },
    "id": "ERjjW_csobgq",
    "outputId": "13d1b415-dcfb-4ca9-efe7-57c2983c7e76"
   },
   "outputs": [
    {
     "name": "stdout",
     "output_type": "stream",
     "text": [
      "[[526115  27459]\n",
      " [   531   1614]]\n",
      "              precision    recall  f1-score   support\n",
      "\n",
      "           0       1.00      0.95      0.97    553574\n",
      "           1       0.06      0.75      0.10      2145\n",
      "\n",
      "    accuracy                           0.95    555719\n",
      "   macro avg       0.53      0.85      0.54    555719\n",
      "weighted avg       1.00      0.95      0.97    555719\n",
      "\n",
      "Precision: 0.0555\n",
      "Recall: 0.7524\n"
     ]
    }
   ],
   "source": [
    "# Train the model with some adjustments for imbalanced data\n",
    "model = LogisticRegression(\n",
    "    class_weight='balanced',  # Handle imbalanced classes\n",
    "    max_iter=1000,\n",
    "    random_state=42\n",
    ")\n",
    "\n",
    "\n",
    "model.fit(X_train, y_train)\n",
    "\n",
    "pred = model.predict(X_test)\n",
    "\n",
    "precision = precision_score(y_test, pred)\n",
    "recall = recall_score(y_test, pred)\n",
    "\n",
    "cm= confusion_matrix(y_test,pred)\n",
    "print(cm)\n",
    "print(classification_report(y_test,pred))\n",
    "print(f\"Precision: {precision:.4f}\")\n",
    "print(f\"Recall: {recall:.4f}\")\n"
   ]
  },
  {
   "cell_type": "code",
   "execution_count": 42,
   "metadata": {
    "colab": {
     "base_uri": "https://localhost:8080/",
     "height": 656
    },
    "executionInfo": {
     "elapsed": 2141,
     "status": "ok",
     "timestamp": 1743265102533,
     "user": {
      "displayName": "Mark Lim",
      "userId": "08262862706972220885"
     },
     "user_tz": -480
    },
    "id": "dGBsihDKq2Hr",
    "outputId": "a3012595-c15d-4a09-ae3f-1ed61b4bc1b3"
   },
   "outputs": [
    {
     "name": "stdout",
     "output_type": "stream",
     "text": [
      "Selected threshold: 0.9991\n",
      "Number of alerts generated: 1000\n",
      "\n",
      "Precision at k=1000: 0.0170\n",
      "If you investigate your top 1000 most suspicious transactions, 17 would be actual fraud\n"
     ]
    },
    {
     "data": {
      "image/png": "[encoded data removed]",
      "text/plain": [
       "<Figure size 800x600 with 1 Axes>"
      ]
     },
     "metadata": {},
     "output_type": "display_data"
    }
   ],
   "source": [
    "# Get actual predictions\n",
    "y_pred_proba = model.predict_proba(X_test)[:, 1]\n",
    "\n",
    "# Calculate precision and recall at various thresholds\n",
    "precision, recall, thresholds = precision_recall_curve(y_test, y_pred_proba)\n",
    "\n",
    "# Set a threshold that would give approximately 1000 predictions per month\n",
    "# Sort prediction probabilities and find the threshold for top 1000\n",
    "sorted_probs = np.sort(y_pred_proba)\n",
    "num_samples = len(sorted_probs)\n",
    "\n",
    "threshold = sorted_probs[max(0, num_samples - 1000)]\n",
    "\n",
    "# Apply threshold to make final predictions\n",
    "y_pred = (y_pred_proba >= threshold).astype(int)\n",
    "\n",
    "# Print results\n",
    "print(f\"Selected threshold: {threshold:.4f}\")\n",
    "print(f\"Number of alerts generated: {sum(y_pred)}\")\n",
    "\n",
    "# Calculate precision at 1000 (how many of top 1000 predictions are actually fraud)\n",
    "k = min(1000, len(y_pred_proba))\n",
    "top_k_indices = np.argsort(y_pred_proba)[-k:]\n",
    "true_positives_at_k = np.sum(y_test.iloc[top_k_indices])\n",
    "precision_at_k = true_positives_at_k / k\n",
    "\n",
    "print(f\"\\nPrecision at k=1000: {precision_at_k:.4f}\")\n",
    "print(f\"If you investigate your top 1000 most suspicious transactions, {true_positives_at_k} would be actual fraud\")\n",
    "\n",
    "# Plot precision-recall curve\n",
    "plt.figure(figsize=(8, 6))\n",
    "plt.plot(recall, precision, marker='.')\n",
    "plt.axhline(true_positives_at_k/k, color='r', linestyle='--',\n",
    "            label=f'Precision at k=1000: {precision_at_k:.4f}')\n",
    "plt.xlabel('Recall')\n",
    "plt.ylabel('Precision')\n",
    "plt.title('Precision-Recall Curve')\n",
    "plt.legend()\n",
    "plt.grid(True)\n",
    "plt.show()"
   ]
  },
  {
   "cell_type": "markdown",
   "metadata": {
    "id": "Kp8C_TpispVy"
   },
   "source": [
    "Considering only 17 cases are caught out of 1000, and an overall low precision rate, we need to try another model[link text](https://)"
   ]
  },
  {
   "cell_type": "markdown",
   "metadata": {
    "id": "vTInrAiivxTJ"
   },
   "source": [
    "## Neural Networks\n",
    "\n",
    "Neural networks utilise weights and biases in each node and each layer in order to adjust the weight of the function, eventually converging on an optimum weight for each node to produce the output"
   ]
  },
  {
   "cell_type": "code",
   "execution_count": 47,
   "metadata": {
    "colab": {
     "base_uri": "https://localhost:8080/"
    },
    "executionInfo": {
     "elapsed": 1764155,
     "status": "ok",
     "timestamp": 1743268136164,
     "user": {
      "displayName": "Mark Lim",
      "userId": "08262862706972220885"
     },
     "user_tz": -480
    },
    "id": "z8KFTW1bvvyE",
    "outputId": "c8cff007-9631-43ae-8f0b-1c9c6e7d2aa0"
   },
   "outputs": [
    {
     "name": "stderr",
     "output_type": "stream",
     "text": [
      "/usr/local/lib/python3.11/dist-packages/keras/src/layers/core/dense.py:87: UserWarning: Do not pass an `input_shape`/`input_dim` argument to a layer. When using Sequential models, prefer using an `Input(shape)` object as the first layer in the model instead.\n",
      "  super().__init__(activity_regularizer=activity_regularizer, **kwargs)\n"
     ]
    },
    {
     "name": "stdout",
     "output_type": "stream",
     "text": [
      "Epoch 1/10\n",
      "\u001b[1m40522/40522\u001b[0m \u001b[32m━━━━━━━━━━━━━━━━━━━━\u001b[0m\u001b[37m\u001b[0m \u001b[1m157s\u001b[0m 4ms/step - accuracy: 0.9914 - loss: 0.1468 - val_accuracy: 0.9961 - val_loss: 0.0171\n",
      "Epoch 2/10\n",
      "\u001b[1m40522/40522\u001b[0m \u001b[32m━━━━━━━━━━━━━━━━━━━━\u001b[0m\u001b[37m\u001b[0m \u001b[1m195s\u001b[0m 4ms/step - accuracy: 0.9941 - loss: 0.0225 - val_accuracy: 0.9947 - val_loss: 0.0181\n",
      "Epoch 3/10\n",
      "\u001b[1m40522/40522\u001b[0m \u001b[32m━━━━━━━━━━━━━━━━━━━━\u001b[0m\u001b[37m\u001b[0m \u001b[1m187s\u001b[0m 3ms/step - accuracy: 0.9942 - loss: 0.0210 - val_accuracy: 0.9960 - val_loss: 0.0148\n",
      "Epoch 4/10\n",
      "\u001b[1m40522/40522\u001b[0m \u001b[32m━━━━━━━━━━━━━━━━━━━━\u001b[0m\u001b[37m\u001b[0m \u001b[1m146s\u001b[0m 3ms/step - accuracy: 0.9942 - loss: 0.0206 - val_accuracy: 0.9957 - val_loss: 0.0154\n",
      "Epoch 5/10\n",
      "\u001b[1m40522/40522\u001b[0m \u001b[32m━━━━━━━━━━━━━━━━━━━━\u001b[0m\u001b[37m\u001b[0m \u001b[1m153s\u001b[0m 4ms/step - accuracy: 0.9943 - loss: 0.0200 - val_accuracy: 0.9962 - val_loss: 0.0140\n",
      "Epoch 6/10\n",
      "\u001b[1m40522/40522\u001b[0m \u001b[32m━━━━━━━━━━━━━━━━━━━━\u001b[0m\u001b[37m\u001b[0m \u001b[1m191s\u001b[0m 3ms/step - accuracy: 0.9943 - loss: 0.0195 - val_accuracy: 0.9961 - val_loss: 0.0136\n",
      "Epoch 7/10\n",
      "\u001b[1m40522/40522\u001b[0m \u001b[32m━━━━━━━━━━━━━━━━━━━━\u001b[0m\u001b[37m\u001b[0m \u001b[1m143s\u001b[0m 3ms/step - accuracy: 0.9943 - loss: 0.0191 - val_accuracy: 0.9962 - val_loss: 0.0136\n",
      "Epoch 8/10\n",
      "\u001b[1m40522/40522\u001b[0m \u001b[32m━━━━━━━━━━━━━━━━━━━━\u001b[0m\u001b[37m\u001b[0m \u001b[1m152s\u001b[0m 4ms/step - accuracy: 0.9942 - loss: 0.0192 - val_accuracy: 0.9962 - val_loss: 0.0136\n",
      "Epoch 9/10\n",
      "\u001b[1m40522/40522\u001b[0m \u001b[32m━━━━━━━━━━━━━━━━━━━━\u001b[0m\u001b[37m\u001b[0m \u001b[1m198s\u001b[0m 4ms/step - accuracy: 0.9943 - loss: 0.0183 - val_accuracy: 0.9962 - val_loss: 0.0129\n",
      "Epoch 10/10\n",
      "\u001b[1m40522/40522\u001b[0m \u001b[32m━━━━━━━━━━━━━━━━━━━━\u001b[0m\u001b[37m\u001b[0m \u001b[1m150s\u001b[0m 4ms/step - accuracy: 0.9947 - loss: 0.0180 - val_accuracy: 0.9966 - val_loss: 0.0125\n",
      "\u001b[1m17367/17367\u001b[0m \u001b[32m━━━━━━━━━━━━━━━━━━━━\u001b[0m\u001b[37m\u001b[0m \u001b[1m24s\u001b[0m 1ms/step\n",
      "Confusion Matrix:\n",
      "[[553542     32]\n",
      " [  1851    294]]\n",
      "\n",
      "Classification Report:\n",
      "              precision    recall  f1-score   support\n",
      "\n",
      "           0       1.00      1.00      1.00    553574\n",
      "           1       0.90      0.14      0.24      2145\n",
      "\n",
      "    accuracy                           1.00    555719\n",
      "   macro avg       0.95      0.57      0.62    555719\n",
      "weighted avg       1.00      1.00      1.00    555719\n",
      "\n",
      "Precision: 0.9018\n",
      "Recall: 0.1371\n"
     ]
    }
   ],
   "source": [
    "import numpy as np\n",
    "import pandas as pd\n",
    "from tensorflow.keras.models import Sequential\n",
    "from tensorflow.keras.layers import Dense\n",
    "from tensorflow.keras.optimizers import Adam\n",
    "from sklearn.metrics import precision_score, recall_score, confusion_matrix, classification_report\n",
    "from tensorflow.keras import backend as K\n",
    "\n",
    "model = Sequential()\n",
    "\n",
    "model.add(Dense(64, input_dim=X_train.shape[1], activation='relu'))\n",
    "\n",
    "model.add(Dense(32, activation='relu'))\n",
    "model.add(Dense(16, activation='relu'))\n",
    "\n",
    "model.add(Dense(1, activation='sigmoid'))\n",
    "\n",
    "model.compile(optimizer=Adam(learning_rate=0.001), loss='binary_crossentropy', metrics=['accuracy'])\n",
    "\n",
    "# Train the model\n",
    "history = model.fit(X_train, y_train, epochs=10, batch_size=32, validation_data=(X_test, y_test), verbose=1)\n",
    "\n",
    "# Get the predictions (probabilities)\n",
    "y_pred_proba = model.predict(X_test)\n",
    "\n",
    "# Convert probabilities to binary predictions using a threshold of 0.5\n",
    "y_pred = (y_pred_proba > 0.5).astype(\"int32\")\n",
    "\n",
    "precision = precision_score(y_test, y_pred)\n",
    "recall = recall_score(y_test, y_pred)\n",
    "\n",
    "cm = confusion_matrix(y_test, y_pred)\n",
    "print(\"Confusion Matrix:\")\n",
    "print(cm)\n",
    "\n",
    "print(\"\\nClassification Report:\")\n",
    "print(classification_report(y_test, y_pred))\n",
    "\n",
    "print(f\"Precision: {precision:.4f}\")\n",
    "print(f\"Recall: {recall:.4f}\")\n"
   ]
  },
  {
   "cell_type": "code",
   "execution_count": 57,
   "metadata": {
    "colab": {
     "base_uri": "https://localhost:8080/",
     "height": 656
    },
    "executionInfo": {
     "elapsed": 1364,
     "status": "ok",
     "timestamp": 1743268473592,
     "user": {
      "displayName": "Mark Lim",
      "userId": "08262862706972220885"
     },
     "user_tz": -480
    },
    "id": "D9suqoHs4fBt",
    "outputId": "f4d79eb2-3102-4603-b925-5b6da1a61546"
   },
   "outputs": [
    {
     "name": "stdout",
     "output_type": "stream",
     "text": [
      "Selected threshold: 0.3915\n",
      "Number of alerts generated: 3087\n",
      "\n",
      "Precision at k=1000: 0.5700\n",
      "If you investigate your top 1000 most suspicious transactions, 570 would be actual fraud\n"
     ]
    },
    {
     "data": {
      "image/png": "[encoded data removed]",
      "text/plain": [
       "<Figure size 800x600 with 1 Axes>"
      ]
     },
     "metadata": {},
     "output_type": "display_data"
    }
   ],
   "source": [
    "y_pred_proba_flatten = y_pred_proba.flatten()\n",
    "\n",
    "# Calculate precision and recall at various thresholds\n",
    "precision, recall, thresholds = precision_recall_curve(y_test, y_pred_proba_flatten)\n",
    "\n",
    "# Set a threshold that would give approximately 1000 predictions per month\n",
    "# Sort prediction probabilities and find the threshold for top 1000\n",
    "sorted_probs = np.sort(y_pred_proba_flatten)\n",
    "num_samples = len(sorted_probs)\n",
    "\n",
    "threshold = sorted_probs[max(0, num_samples - 1000)]\n",
    "\n",
    "# Apply threshold to make final predictions\n",
    "y_pred = (y_pred_proba_flatten >= threshold).astype(int)\n",
    "\n",
    "# Print results\n",
    "print(f\"Selected threshold: {threshold:.4f}\")\n",
    "print(f\"Number of alerts generated: {sum(y_pred)}\")\n",
    "\n",
    "# Calculate precision at 1000 (how many of top 1000 predictions are actually fraud)\n",
    "k = min(1000, len(y_pred_proba_flatten))\n",
    "top_k_indices = np.argsort(y_pred_proba_flatten)[-k:]\n",
    "true_positives_at_k = np.sum(y_test.iloc[top_k_indices])\n",
    "precision_at_k = true_positives_at_k / k\n",
    "\n",
    "print(f\"\\nPrecision at k=1000: {precision_at_k:.4f}\")\n",
    "print(f\"If you investigate your top 1000 most suspicious transactions, {true_positives_at_k} would be actual fraud\")\n",
    "\n",
    "# Plot precision-recall curve\n",
    "plt.figure(figsize=(8, 6))\n",
    "plt.plot(recall, precision, marker='.')\n",
    "plt.axhline(true_positives_at_k/k, color='r', linestyle='--',\n",
    "            label=f'Precision at k=1000: {precision_at_k:.4f}')\n",
    "plt.xlabel('Recall')\n",
    "plt.ylabel('Precision')\n",
    "plt.title('Precision-Recall Curve')\n",
    "plt.legend()\n",
    "plt.grid(True)\n",
    "plt.show()"
   ]
  },
  {
   "cell_type": "markdown",
   "metadata": {
    "id": "jL-ZzaQOs5gb"
   },
   "source": [
    "## XGBoost\n",
    "\n",
    "Extreme gradient boosting is a form of boosting (ensemble learning), using decision trees as base learners to come to a 'democratic' decision. Each tree is able to correct for the mistakes of the previous tree in a sequential manner"
   ]
  },
  {
   "cell_type": "code",
   "execution_count": 51,
   "metadata": {
    "colab": {
     "base_uri": "https://localhost:8080/"
    },
    "executionInfo": {
     "elapsed": 13072,
     "status": "ok",
     "timestamp": 1743268291356,
     "user": {
      "displayName": "Mark Lim",
      "userId": "08262862706972220885"
     },
     "user_tz": -480
    },
    "id": "XTjsu7WNtpKj",
    "outputId": "222a729d-1b1e-49d1-83b6-c7962278e7c0"
   },
   "outputs": [
    {
     "name": "stdout",
     "output_type": "stream",
     "text": [
      "[[553127    447]\n",
      " [   973   1172]]\n",
      "              precision    recall  f1-score   support\n",
      "\n",
      "           0       1.00      1.00      1.00    553574\n",
      "           1       0.72      0.55      0.62      2145\n",
      "\n",
      "    accuracy                           1.00    555719\n",
      "   macro avg       0.86      0.77      0.81    555719\n",
      "weighted avg       1.00      1.00      1.00    555719\n",
      "\n",
      "Precision: 0.7239\n",
      "Recall: 0.5464\n",
      "\n",
      "Top 10 important features:\n",
      "amt: 0.4870\n",
      "category: 0.2985\n",
      "gender: 0.0880\n",
      "age: 0.0541\n",
      "job: 0.0225\n",
      "city: 0.0222\n",
      "state: 0.0190\n",
      "merchant: 0.0087\n"
     ]
    }
   ],
   "source": [
    "from xgboost import XGBClassifier\n",
    "\n",
    "model = XGBClassifier(\n",
    "    max_depth=5,\n",
    "    learning_rate=0.1,\n",
    "    n_estimators=100,\n",
    "    random_state=42\n",
    ")\n",
    "\n",
    "model.fit(X_train, y_train)\n",
    "\n",
    "pred = model.predict(X_test)\n",
    "\n",
    "precision = precision_score(y_test, pred)\n",
    "recall = recall_score(y_test, pred)\n",
    "\n",
    "cm = confusion_matrix(y_test, pred)\n",
    "print(cm)\n",
    "print(classification_report(y_test, pred))\n",
    "print(f\"Precision: {precision:.4f}\")\n",
    "print(f\"Recall: {recall:.4f}\")\n",
    "\n",
    "importance = model.feature_importances_\n",
    "feature_names = X_train.columns\n",
    "feature_importance = sorted(zip(feature_names, importance), key=lambda x: x[1], reverse=True)\n",
    "print(\"\\nTop 10 important features:\")\n",
    "for feature, importance in feature_importance[:10]:\n",
    "    print(f\"{feature}: {importance:.4f}\")"
   ]
  },
  {
   "cell_type": "code",
   "execution_count": 45,
   "metadata": {
    "colab": {
     "base_uri": "https://localhost:8080/",
     "height": 656
    },
    "executionInfo": {
     "elapsed": 2513,
     "status": "ok",
     "timestamp": 1743265502487,
     "user": {
      "displayName": "Mark Lim",
      "userId": "08262862706972220885"
     },
     "user_tz": -480
    },
    "id": "ze62w6cjtTkj",
    "outputId": "fd594219-109b-463e-90dc-d099752fcfda"
   },
   "outputs": [
    {
     "name": "stdout",
     "output_type": "stream",
     "text": [
      "Selected threshold: 0.6262\n",
      "Number of alerts generated: 1000\n",
      "\n",
      "Precision at k=1000: 0.8200\n",
      "If you investigate your top 1000 most suspicious transactions, 820 would be actual fraud\n"
     ]
    },
    {
     "data": {
      "image/png": "[encoded data removed]",
      "text/plain": [
       "<Figure size 800x600 with 1 Axes>"
      ]
     },
     "metadata": {},
     "output_type": "display_data"
    }
   ],
   "source": [
    "\n",
    "y_pred_proba = model.predict_proba(X_test)[:, 1]\n",
    "\n",
    "# Calculate precision and recall at various thresholds\n",
    "precision, recall, thresholds = precision_recall_curve(y_test, y_pred_proba)\n",
    "\n",
    "# Set a threshold that would give approximately 1000 predictions per month\n",
    "# Sort prediction probabilities and find the threshold for top 1000\n",
    "sorted_probs = np.sort(y_pred_proba)\n",
    "num_samples = len(sorted_probs)\n",
    "\n",
    "threshold = sorted_probs[max(0, num_samples - 1000)]\n",
    "\n",
    "# Apply threshold to make final predictions\n",
    "y_pred = (y_pred_proba >= threshold).astype(int)\n",
    "\n",
    "# Print results\n",
    "print(f\"Selected threshold: {threshold:.4f}\")\n",
    "print(f\"Number of alerts generated: {sum(y_pred)}\")\n",
    "\n",
    "# Calculate precision at 1000 (how many of top 1000 predictions are actually fraud)\n",
    "k = min(1000, len(y_pred_proba))\n",
    "top_k_indices = np.argsort(y_pred_proba)[-k:]\n",
    "true_positives_at_k = np.sum(y_test.iloc[top_k_indices])\n",
    "precision_at_k = true_positives_at_k / k\n",
    "\n",
    "print(f\"\\nPrecision at k=1000: {precision_at_k:.4f}\")\n",
    "print(f\"If you investigate your top 1000 most suspicious transactions, {true_positives_at_k} would be actual fraud\")\n",
    "\n",
    "# Plot precision-recall curve\n",
    "plt.figure(figsize=(8, 6))\n",
    "plt.plot(recall, precision, marker='.')\n",
    "plt.axhline(true_positives_at_k/k, color='r', linestyle='--',\n",
    "            label=f'Precision at k=1000: {precision_at_k:.4f}')\n",
    "plt.xlabel('Recall')\n",
    "plt.ylabel('Precision')\n",
    "plt.title('Precision-Recall Curve')\n",
    "plt.legend()\n",
    "plt.grid(True)\n",
    "plt.show()"
   ]
  }
 ],
 "metadata": {
  "accelerator": "GPU",
  "colab": {
   "authorship_tag": "ABX9TyMUKXWICCpWTiW0Fv2WKj2X",
   "gpuType": "T4",
   "provenance": [],
   "toc_visible": true
  },
  "kernelspec": {
   "display_name": "Python 3",
   "name": "python3"
  },
  "language_info": {
   "name": "python"
  },
  "widgets": {
   "application/vnd.jupyter.widget-state+json": {
    "13788788d33d45d69f351cad0620b374": {
     "model_module": "@jupyter-widgets/base",
     "model_module_version": "1.2.0",
     "model_name": "LayoutModel",
     "state": {
      "_model_module": "@jupyter-widgets/base",
      "_model_module_version": "1.2.0",
      "_model_name": "LayoutModel",
      "_view_count": null,
      "_view_module": "@jupyter-widgets/base",
      "_view_module_version": "1.2.0",
      "_view_name": "LayoutView",
      "align_content": null,
      "align_items": null,
      "align_self": null,
      "border": null,
      "bottom": null,
      "display": null,
      "flex": null,
      "flex_flow": null,
      "grid_area": null,
      "grid_auto_columns": null,
      "grid_auto_flow": null,
      "grid_auto_rows": null,
      "grid_column": null,
      "grid_gap": null,
      "grid_row": null,
      "grid_template_areas": null,
      "grid_template_columns": null,
      "grid_template_rows": null,
      "height": null,
      "justify_content": null,
      "justify_items": null,
      "left": null,
      "margin": null,
      "max_height": null,
      "max_width": null,
      "min_height": null,
      "min_width": null,
      "object_fit": null,
      "object_position": null,
      "order": null,
      "overflow": null,
      "overflow_x": null,
      "overflow_y": null,
      "padding": null,
      "right": null,
      "top": null,
      "visibility": null,
      "width": null
     }
    },
    "1a79fac40b8b4bc986fbd53068f1b94b": {
     "model_module": "@jupyter-widgets/base",
     "model_module_version": "1.2.0",
     "model_name": "LayoutModel",
     "state": {
      "_model_module": "@jupyter-widgets/base",
      "_model_module_version": "1.2.0",
      "_model_name": "LayoutModel",
      "_view_count": null,
      "_view_module": "@jupyter-widgets/base",
      "_view_module_version": "1.2.0",
      "_view_name": "LayoutView",
      "align_content": null,
      "align_items": null,
      "align_self": null,
      "border": null,
      "bottom": null,
      "display": null,
      "flex": null,
      "flex_flow": null,
      "grid_area": null,
      "grid_auto_columns": null,
      "grid_auto_flow": null,
      "grid_auto_rows": null,
      "grid_column": null,
      "grid_gap": null,
      "grid_row": null,
      "grid_template_areas": null,
      "grid_template_columns": null,
      "grid_template_rows": null,
      "height": null,
      "justify_content": null,
      "justify_items": null,
      "left": null,
      "margin": null,
      "max_height": null,
      "max_width": null,
      "min_height": null,
      "min_width": null,
      "object_fit": null,
      "object_position": null,
      "order": null,
      "overflow": null,
      "overflow_x": null,
      "overflow_y": null,
      "padding": null,
      "right": null,
      "top": null,
      "visibility": null,
      "width": null
     }
    },
    "2641a0042e8a4a558b2394299ab64edf": {
     "model_module": "@jupyter-widgets/base",
     "model_module_version": "1.2.0",
     "model_name": "LayoutModel",
     "state": {
      "_model_module": "@jupyter-widgets/base",
      "_model_module_version": "1.2.0",
      "_model_name": "LayoutModel",
      "_view_count": null,
      "_view_module": "@jupyter-widgets/base",
      "_view_module_version": "1.2.0",
      "_view_name": "LayoutView",
      "align_content": null,
      "align_items": null,
      "align_self": null,
      "border": null,
      "bottom": null,
      "display": null,
      "flex": null,
      "flex_flow": null,
      "grid_area": null,
      "grid_auto_columns": null,
      "grid_auto_flow": null,
      "grid_auto_rows": null,
      "grid_column": null,
      "grid_gap": null,
      "grid_row": null,
      "grid_template_areas": null,
      "grid_template_columns": null,
      "grid_template_rows": null,
      "height": null,
      "justify_content": null,
      "justify_items": null,
      "left": null,
      "margin": null,
      "max_height": null,
      "max_width": null,
      "min_height": null,
      "min_width": null,
      "object_fit": null,
      "object_position": null,
      "order": null,
      "overflow": null,
      "overflow_x": null,
      "overflow_y": null,
      "padding": null,
      "right": null,
      "top": null,
      "visibility": null,
      "width": null
     }
    },
    "2dc470b5fa944ea1978ea658f562cfc0": {
     "model_module": "@jupyter-widgets/controls",
     "model_module_version": "1.5.0",
     "model_name": "HBoxModel",
     "state": {
      "_dom_classes": [],
      "_model_module": "@jupyter-widgets/controls",
      "_model_module_version": "1.5.0",
      "_model_name": "HBoxModel",
      "_view_count": null,
      "_view_module": "@jupyter-widgets/controls",
      "_view_module_version": "1.5.0",
      "_view_name": "HBoxView",
      "box_style": "",
      "children": [
       "IPY_MODEL_38c430631d26406b8c32dc0e85473d91",
       "IPY_MODEL_c4b17b8e75a2456fbb2415cddf686ede",
       "IPY_MODEL_b57dd90c7eaa4675a75df4722b8c2898"
      ],
      "layout": "IPY_MODEL_e29163cd3c5c430590e0ebfe76573401"
     }
    },
    "31293fd7b0814ce3bfcd208d63841f2e": {
     "model_module": "@jupyter-widgets/controls",
     "model_module_version": "1.5.0",
     "model_name": "HTMLModel",
     "state": {
      "_dom_classes": [],
      "_model_module": "@jupyter-widgets/controls",
      "_model_module_version": "1.5.0",
      "_model_name": "HTMLModel",
      "_view_count": null,
      "_view_module": "@jupyter-widgets/controls",
      "_view_module_version": "1.5.0",
      "_view_name": "HTMLView",
      "description": "",
      "description_tooltip": null,
      "layout": "IPY_MODEL_537d5557f8f64dc8807cb9fcbd929287",
      "placeholder": "​",
      "style": "IPY_MODEL_f64d1f0b9de74880b40ac381ff755aea",
      "value": "Generate report structure: 100%"
     }
    },
    "38c430631d26406b8c32dc0e85473d91": {
     "model_module": "@jupyter-widgets/controls",
     "model_module_version": "1.5.0",
     "model_name": "HTMLModel",
     "state": {
      "_dom_classes": [],
      "_model_module": "@jupyter-widgets/controls",
      "_model_module_version": "1.5.0",
      "_model_name": "HTMLModel",
      "_view_count": null,
      "_view_module": "@jupyter-widgets/controls",
      "_view_module_version": "1.5.0",
      "_view_name": "HTMLView",
      "description": "",
      "description_tooltip": null,
      "layout": "IPY_MODEL_13788788d33d45d69f351cad0620b374",
      "placeholder": "​",
      "style": "IPY_MODEL_808e67da34074aa99f8cc2285bd5bc7b",
      "value": "Summarize dataset: 100%"
     }
    },
    "537d5557f8f64dc8807cb9fcbd929287": {
     "model_module": "@jupyter-widgets/base",
     "model_module_version": "1.2.0",
     "model_name": "LayoutModel",
     "state": {
      "_model_module": "@jupyter-widgets/base",
      "_model_module_version": "1.2.0",
      "_model_name": "LayoutModel",
      "_view_count": null,
      "_view_module": "@jupyter-widgets/base",
      "_view_module_version": "1.2.0",
      "_view_name": "LayoutView",
      "align_content": null,
      "align_items": null,
      "align_self": null,
      "border": null,
      "bottom": null,
      "display": null,
      "flex": null,
      "flex_flow": null,
      "grid_area": null,
      "grid_auto_columns": null,
      "grid_auto_flow": null,
      "grid_auto_rows": null,
      "grid_column": null,
      "grid_gap": null,
      "grid_row": null,
      "grid_template_areas": null,
      "grid_template_columns": null,
      "grid_template_rows": null,
      "height": null,
      "justify_content": null,
      "justify_items": null,
      "left": null,
      "margin": null,
      "max_height": null,
      "max_width": null,
      "min_height": null,
      "min_width": null,
      "object_fit": null,
      "object_position": null,
      "order": null,
      "overflow": null,
      "overflow_x": null,
      "overflow_y": null,
      "padding": null,
      "right": null,
      "top": null,
      "visibility": null,
      "width": null
     }
    },
    "6438af506d5544a29f73198467ba3819": {
     "model_module": "@jupyter-widgets/controls",
     "model_module_version": "1.5.0",
     "model_name": "ProgressStyleModel",
     "state": {
      "_model_module": "@jupyter-widgets/controls",
      "_model_module_version": "1.5.0",
      "_model_name": "ProgressStyleModel",
      "_view_count": null,
      "_view_module": "@jupyter-widgets/base",
      "_view_module_version": "1.2.0",
      "_view_name": "StyleView",
      "bar_color": null,
      "description_width": ""
     }
    },
    "6969b087bed34247b3b5647678353fb9": {
     "model_module": "@jupyter-widgets/controls",
     "model_module_version": "1.5.0",
     "model_name": "FloatProgressModel",
     "state": {
      "_dom_classes": [],
      "_model_module": "@jupyter-widgets/controls",
      "_model_module_version": "1.5.0",
      "_model_name": "FloatProgressModel",
      "_view_count": null,
      "_view_module": "@jupyter-widgets/controls",
      "_view_module_version": "1.5.0",
      "_view_name": "ProgressView",
      "bar_style": "success",
      "description": "",
      "description_tooltip": null,
      "layout": "IPY_MODEL_7dee6530496242f0ab6301ce66926e12",
      "max": 1,
      "min": 0,
      "orientation": "horizontal",
      "style": "IPY_MODEL_6438af506d5544a29f73198467ba3819",
      "value": 1
     }
    },
    "798cbe85eea645bfadee479f987902cc": {
     "model_module": "@jupyter-widgets/controls",
     "model_module_version": "1.5.0",
     "model_name": "HBoxModel",
     "state": {
      "_dom_classes": [],
      "_model_module": "@jupyter-widgets/controls",
      "_model_module_version": "1.5.0",
      "_model_name": "HBoxModel",
      "_view_count": null,
      "_view_module": "@jupyter-widgets/controls",
      "_view_module_version": "1.5.0",
      "_view_name": "HBoxView",
      "box_style": "",
      "children": [
       "IPY_MODEL_31293fd7b0814ce3bfcd208d63841f2e",
       "IPY_MODEL_6969b087bed34247b3b5647678353fb9",
       "IPY_MODEL_94f138344f654ad1933e36e8d8f61e7f"
      ],
      "layout": "IPY_MODEL_9a8dd154e8c74a3c86ff2cc04b08696d"
     }
    },
    "7dee6530496242f0ab6301ce66926e12": {
     "model_module": "@jupyter-widgets/base",
     "model_module_version": "1.2.0",
     "model_name": "LayoutModel",
     "state": {
      "_model_module": "@jupyter-widgets/base",
      "_model_module_version": "1.2.0",
      "_model_name": "LayoutModel",
      "_view_count": null,
      "_view_module": "@jupyter-widgets/base",
      "_view_module_version": "1.2.0",
      "_view_name": "LayoutView",
      "align_content": null,
      "align_items": null,
      "align_self": null,
      "border": null,
      "bottom": null,
      "display": null,
      "flex": null,
      "flex_flow": null,
      "grid_area": null,
      "grid_auto_columns": null,
      "grid_auto_flow": null,
      "grid_auto_rows": null,
      "grid_column": null,
      "grid_gap": null,
      "grid_row": null,
      "grid_template_areas": null,
      "grid_template_columns": null,
      "grid_template_rows": null,
      "height": null,
      "justify_content": null,
      "justify_items": null,
      "left": null,
      "margin": null,
      "max_height": null,
      "max_width": null,
      "min_height": null,
      "min_width": null,
      "object_fit": null,
      "object_position": null,
      "order": null,
      "overflow": null,
      "overflow_x": null,
      "overflow_y": null,
      "padding": null,
      "right": null,
      "top": null,
      "visibility": null,
      "width": null
     }
    },
    "7e602b351399455e970a9b555f6f0f15": {
     "model_module": "@jupyter-widgets/controls",
     "model_module_version": "1.5.0",
     "model_name": "HTMLModel",
     "state": {
      "_dom_classes": [],
      "_model_module": "@jupyter-widgets/controls",
      "_model_module_version": "1.5.0",
      "_model_name": "HTMLModel",
      "_view_count": null,
      "_view_module": "@jupyter-widgets/controls",
      "_view_module_version": "1.5.0",
      "_view_name": "HTMLView",
      "description": "",
      "description_tooltip": null,
      "layout": "IPY_MODEL_a120adc105b84ad7b9b972800b9b51a0",
      "placeholder": "​",
      "style": "IPY_MODEL_f26bd1fb49214766ad23c9558d4abb22",
      "value": "Render HTML: 100%"
     }
    },
    "808e67da34074aa99f8cc2285bd5bc7b": {
     "model_module": "@jupyter-widgets/controls",
     "model_module_version": "1.5.0",
     "model_name": "DescriptionStyleModel",
     "state": {
      "_model_module": "@jupyter-widgets/controls",
      "_model_module_version": "1.5.0",
      "_model_name": "DescriptionStyleModel",
      "_view_count": null,
      "_view_module": "@jupyter-widgets/base",
      "_view_module_version": "1.2.0",
      "_view_name": "StyleView",
      "description_width": ""
     }
    },
    "8ddee1de815d4e0b98bbc282b3817e6f": {
     "model_module": "@jupyter-widgets/controls",
     "model_module_version": "1.5.0",
     "model_name": "FloatProgressModel",
     "state": {
      "_dom_classes": [],
      "_model_module": "@jupyter-widgets/controls",
      "_model_module_version": "1.5.0",
      "_model_name": "FloatProgressModel",
      "_view_count": null,
      "_view_module": "@jupyter-widgets/controls",
      "_view_module_version": "1.5.0",
      "_view_name": "ProgressView",
      "bar_style": "success",
      "description": "",
      "description_tooltip": null,
      "layout": "IPY_MODEL_e364470e218d4840a1cc6ca38cd8ebe2",
      "max": 1,
      "min": 0,
      "orientation": "horizontal",
      "style": "IPY_MODEL_8ed2d78bbcdb45cc84899bcd66718115",
      "value": 1
     }
    },
    "8e4091e53c584ce68286868bf586b0da": {
     "model_module": "@jupyter-widgets/controls",
     "model_module_version": "1.5.0",
     "model_name": "HBoxModel",
     "state": {
      "_dom_classes": [],
      "_model_module": "@jupyter-widgets/controls",
      "_model_module_version": "1.5.0",
      "_model_name": "HBoxModel",
      "_view_count": null,
      "_view_module": "@jupyter-widgets/controls",
      "_view_module_version": "1.5.0",
      "_view_name": "HBoxView",
      "box_style": "",
      "children": [
       "IPY_MODEL_7e602b351399455e970a9b555f6f0f15",
       "IPY_MODEL_8ddee1de815d4e0b98bbc282b3817e6f",
       "IPY_MODEL_a853bb3151aa4fba915c0b41921628df"
      ],
      "layout": "IPY_MODEL_1a79fac40b8b4bc986fbd53068f1b94b"
     }
    },
    "8ed2d78bbcdb45cc84899bcd66718115": {
     "model_module": "@jupyter-widgets/controls",
     "model_module_version": "1.5.0",
     "model_name": "ProgressStyleModel",
     "state": {
      "_model_module": "@jupyter-widgets/controls",
      "_model_module_version": "1.5.0",
      "_model_name": "ProgressStyleModel",
      "_view_count": null,
      "_view_module": "@jupyter-widgets/base",
      "_view_module_version": "1.2.0",
      "_view_name": "StyleView",
      "bar_color": null,
      "description_width": ""
     }
    },
    "923e4054d6304dc296a5feff15d213da": {
     "model_module": "@jupyter-widgets/controls",
     "model_module_version": "1.5.0",
     "model_name": "DescriptionStyleModel",
     "state": {
      "_model_module": "@jupyter-widgets/controls",
      "_model_module_version": "1.5.0",
      "_model_name": "DescriptionStyleModel",
      "_view_count": null,
      "_view_module": "@jupyter-widgets/base",
      "_view_module_version": "1.2.0",
      "_view_name": "StyleView",
      "description_width": ""
     }
    },
    "947e7d81b3fe40ffbe8183e80e25463f": {
     "model_module": "@jupyter-widgets/controls",
     "model_module_version": "1.5.0",
     "model_name": "DescriptionStyleModel",
     "state": {
      "_model_module": "@jupyter-widgets/controls",
      "_model_module_version": "1.5.0",
      "_model_name": "DescriptionStyleModel",
      "_view_count": null,
      "_view_module": "@jupyter-widgets/base",
      "_view_module_version": "1.2.0",
      "_view_name": "StyleView",
      "description_width": ""
     }
    },
    "94f138344f654ad1933e36e8d8f61e7f": {
     "model_module": "@jupyter-widgets/controls",
     "model_module_version": "1.5.0",
     "model_name": "HTMLModel",
     "state": {
      "_dom_classes": [],
      "_model_module": "@jupyter-widgets/controls",
      "_model_module_version": "1.5.0",
      "_model_name": "HTMLModel",
      "_view_count": null,
      "_view_module": "@jupyter-widgets/controls",
      "_view_module_version": "1.5.0",
      "_view_name": "HTMLView",
      "description": "",
      "description_tooltip": null,
      "layout": "IPY_MODEL_ab3ad6f0acb34daf82ba8748b9bb909f",
      "placeholder": "​",
      "style": "IPY_MODEL_923e4054d6304dc296a5feff15d213da",
      "value": " 1/1 [00:09&lt;00:00,  9.83s/it]"
     }
    },
    "9a083736a93b466fb47eb86b4a927bc0": {
     "model_module": "@jupyter-widgets/controls",
     "model_module_version": "1.5.0",
     "model_name": "DescriptionStyleModel",
     "state": {
      "_model_module": "@jupyter-widgets/controls",
      "_model_module_version": "1.5.0",
      "_model_name": "DescriptionStyleModel",
      "_view_count": null,
      "_view_module": "@jupyter-widgets/base",
      "_view_module_version": "1.2.0",
      "_view_name": "StyleView",
      "description_width": ""
     }
    },
    "9a8dd154e8c74a3c86ff2cc04b08696d": {
     "model_module": "@jupyter-widgets/base",
     "model_module_version": "1.2.0",
     "model_name": "LayoutModel",
     "state": {
      "_model_module": "@jupyter-widgets/base",
      "_model_module_version": "1.2.0",
      "_model_name": "LayoutModel",
      "_view_count": null,
      "_view_module": "@jupyter-widgets/base",
      "_view_module_version": "1.2.0",
      "_view_name": "LayoutView",
      "align_content": null,
      "align_items": null,
      "align_self": null,
      "border": null,
      "bottom": null,
      "display": null,
      "flex": null,
      "flex_flow": null,
      "grid_area": null,
      "grid_auto_columns": null,
      "grid_auto_flow": null,
      "grid_auto_rows": null,
      "grid_column": null,
      "grid_gap": null,
      "grid_row": null,
      "grid_template_areas": null,
      "grid_template_columns": null,
      "grid_template_rows": null,
      "height": null,
      "justify_content": null,
      "justify_items": null,
      "left": null,
      "margin": null,
      "max_height": null,
      "max_width": null,
      "min_height": null,
      "min_width": null,
      "object_fit": null,
      "object_position": null,
      "order": null,
      "overflow": null,
      "overflow_x": null,
      "overflow_y": null,
      "padding": null,
      "right": null,
      "top": null,
      "visibility": null,
      "width": null
     }
    },
    "a120adc105b84ad7b9b972800b9b51a0": {
     "model_module": "@jupyter-widgets/base",
     "model_module_version": "1.2.0",
     "model_name": "LayoutModel",
     "state": {
      "_model_module": "@jupyter-widgets/base",
      "_model_module_version": "1.2.0",
      "_model_name": "LayoutModel",
      "_view_count": null,
      "_view_module": "@jupyter-widgets/base",
      "_view_module_version": "1.2.0",
      "_view_name": "LayoutView",
      "align_content": null,
      "align_items": null,
      "align_self": null,
      "border": null,
      "bottom": null,
      "display": null,
      "flex": null,
      "flex_flow": null,
      "grid_area": null,
      "grid_auto_columns": null,
      "grid_auto_flow": null,
      "grid_auto_rows": null,
      "grid_column": null,
      "grid_gap": null,
      "grid_row": null,
      "grid_template_areas": null,
      "grid_template_columns": null,
      "grid_template_rows": null,
      "height": null,
      "justify_content": null,
      "justify_items": null,
      "left": null,
      "margin": null,
      "max_height": null,
      "max_width": null,
      "min_height": null,
      "min_width": null,
      "object_fit": null,
      "object_position": null,
      "order": null,
      "overflow": null,
      "overflow_x": null,
      "overflow_y": null,
      "padding": null,
      "right": null,
      "top": null,
      "visibility": null,
      "width": null
     }
    },
    "a853bb3151aa4fba915c0b41921628df": {
     "model_module": "@jupyter-widgets/controls",
     "model_module_version": "1.5.0",
     "model_name": "HTMLModel",
     "state": {
      "_dom_classes": [],
      "_model_module": "@jupyter-widgets/controls",
      "_model_module_version": "1.5.0",
      "_model_name": "HTMLModel",
      "_view_count": null,
      "_view_module": "@jupyter-widgets/controls",
      "_view_module_version": "1.5.0",
      "_view_name": "HTMLView",
      "description": "",
      "description_tooltip": null,
      "layout": "IPY_MODEL_c2ec9f09d59e476f87150488673b5d5d",
      "placeholder": "​",
      "style": "IPY_MODEL_9a083736a93b466fb47eb86b4a927bc0",
      "value": " 1/1 [00:04&lt;00:00,  4.42s/it]"
     }
    },
    "ab3ad6f0acb34daf82ba8748b9bb909f": {
     "model_module": "@jupyter-widgets/base",
     "model_module_version": "1.2.0",
     "model_name": "LayoutModel",
     "state": {
      "_model_module": "@jupyter-widgets/base",
      "_model_module_version": "1.2.0",
      "_model_name": "LayoutModel",
      "_view_count": null,
      "_view_module": "@jupyter-widgets/base",
      "_view_module_version": "1.2.0",
      "_view_name": "LayoutView",
      "align_content": null,
      "align_items": null,
      "align_self": null,
      "border": null,
      "bottom": null,
      "display": null,
      "flex": null,
      "flex_flow": null,
      "grid_area": null,
      "grid_auto_columns": null,
      "grid_auto_flow": null,
      "grid_auto_rows": null,
      "grid_column": null,
      "grid_gap": null,
      "grid_row": null,
      "grid_template_areas": null,
      "grid_template_columns": null,
      "grid_template_rows": null,
      "height": null,
      "justify_content": null,
      "justify_items": null,
      "left": null,
      "margin": null,
      "max_height": null,
      "max_width": null,
      "min_height": null,
      "min_width": null,
      "object_fit": null,
      "object_position": null,
      "order": null,
      "overflow": null,
      "overflow_x": null,
      "overflow_y": null,
      "padding": null,
      "right": null,
      "top": null,
      "visibility": null,
      "width": null
     }
    },
    "b292bc49b3d24a68b312bae165394300": {
     "model_module": "@jupyter-widgets/controls",
     "model_module_version": "1.5.0",
     "model_name": "ProgressStyleModel",
     "state": {
      "_model_module": "@jupyter-widgets/controls",
      "_model_module_version": "1.5.0",
      "_model_name": "ProgressStyleModel",
      "_view_count": null,
      "_view_module": "@jupyter-widgets/base",
      "_view_module_version": "1.2.0",
      "_view_name": "StyleView",
      "bar_color": null,
      "description_width": ""
     }
    },
    "b57dd90c7eaa4675a75df4722b8c2898": {
     "model_module": "@jupyter-widgets/controls",
     "model_module_version": "1.5.0",
     "model_name": "HTMLModel",
     "state": {
      "_dom_classes": [],
      "_model_module": "@jupyter-widgets/controls",
      "_model_module_version": "1.5.0",
      "_model_name": "HTMLModel",
      "_view_count": null,
      "_view_module": "@jupyter-widgets/controls",
      "_view_module_version": "1.5.0",
      "_view_name": "HTMLView",
      "description": "",
      "description_tooltip": null,
      "layout": "IPY_MODEL_2641a0042e8a4a558b2394299ab64edf",
      "placeholder": "​",
      "style": "IPY_MODEL_947e7d81b3fe40ffbe8183e80e25463f",
      "value": " 154/154 [01:46&lt;00:00,  1.54s/it, Completed]"
     }
    },
    "c2ec9f09d59e476f87150488673b5d5d": {
     "model_module": "@jupyter-widgets/base",
     "model_module_version": "1.2.0",
     "model_name": "LayoutModel",
     "state": {
      "_model_module": "@jupyter-widgets/base",
      "_model_module_version": "1.2.0",
      "_model_name": "LayoutModel",
      "_view_count": null,
      "_view_module": "@jupyter-widgets/base",
      "_view_module_version": "1.2.0",
      "_view_name": "LayoutView",
      "align_content": null,
      "align_items": null,
      "align_self": null,
      "border": null,
      "bottom": null,
      "display": null,
      "flex": null,
      "flex_flow": null,
      "grid_area": null,
      "grid_auto_columns": null,
      "grid_auto_flow": null,
      "grid_auto_rows": null,
      "grid_column": null,
      "grid_gap": null,
      "grid_row": null,
      "grid_template_areas": null,
      "grid_template_columns": null,
      "grid_template_rows": null,
      "height": null,
      "justify_content": null,
      "justify_items": null,
      "left": null,
      "margin": null,
      "max_height": null,
      "max_width": null,
      "min_height": null,
      "min_width": null,
      "object_fit": null,
      "object_position": null,
      "order": null,
      "overflow": null,
      "overflow_x": null,
      "overflow_y": null,
      "padding": null,
      "right": null,
      "top": null,
      "visibility": null,
      "width": null
     }
    },
    "c4b17b8e75a2456fbb2415cddf686ede": {
     "model_module": "@jupyter-widgets/controls",
     "model_module_version": "1.5.0",
     "model_name": "FloatProgressModel",
     "state": {
      "_dom_classes": [],
      "_model_module": "@jupyter-widgets/controls",
      "_model_module_version": "1.5.0",
      "_model_name": "FloatProgressModel",
      "_view_count": null,
      "_view_module": "@jupyter-widgets/controls",
      "_view_module_version": "1.5.0",
      "_view_name": "ProgressView",
      "bar_style": "success",
      "description": "",
      "description_tooltip": null,
      "layout": "IPY_MODEL_dffff68ea52349e9a79add3ab22542b7",
      "max": 5,
      "min": 0,
      "orientation": "horizontal",
      "style": "IPY_MODEL_b292bc49b3d24a68b312bae165394300",
      "value": 5
     }
    },
    "dffff68ea52349e9a79add3ab22542b7": {
     "model_module": "@jupyter-widgets/base",
     "model_module_version": "1.2.0",
     "model_name": "LayoutModel",
     "state": {
      "_model_module": "@jupyter-widgets/base",
      "_model_module_version": "1.2.0",
      "_model_name": "LayoutModel",
      "_view_count": null,
      "_view_module": "@jupyter-widgets/base",
      "_view_module_version": "1.2.0",
      "_view_name": "LayoutView",
      "align_content": null,
      "align_items": null,
      "align_self": null,
      "border": null,
      "bottom": null,
      "display": null,
      "flex": null,
      "flex_flow": null,
      "grid_area": null,
      "grid_auto_columns": null,
      "grid_auto_flow": null,
      "grid_auto_rows": null,
      "grid_column": null,
      "grid_gap": null,
      "grid_row": null,
      "grid_template_areas": null,
      "grid_template_columns": null,
      "grid_template_rows": null,
      "height": null,
      "justify_content": null,
      "justify_items": null,
      "left": null,
      "margin": null,
      "max_height": null,
      "max_width": null,
      "min_height": null,
      "min_width": null,
      "object_fit": null,
      "object_position": null,
      "order": null,
      "overflow": null,
      "overflow_x": null,
      "overflow_y": null,
      "padding": null,
      "right": null,
      "top": null,
      "visibility": null,
      "width": null
     }
    },
    "e29163cd3c5c430590e0ebfe76573401": {
     "model_module": "@jupyter-widgets/base",
     "model_module_version": "1.2.0",
     "model_name": "LayoutModel",
     "state": {
      "_model_module": "@jupyter-widgets/base",
      "_model_module_version": "1.2.0",
      "_model_name": "LayoutModel",
      "_view_count": null,
      "_view_module": "@jupyter-widgets/base",
      "_view_module_version": "1.2.0",
      "_view_name": "LayoutView",
      "align_content": null,
      "align_items": null,
      "align_self": null,
      "border": null,
      "bottom": null,
      "display": null,
      "flex": null,
      "flex_flow": null,
      "grid_area": null,
      "grid_auto_columns": null,
      "grid_auto_flow": null,
      "grid_auto_rows": null,
      "grid_column": null,
      "grid_gap": null,
      "grid_row": null,
      "grid_template_areas": null,
      "grid_template_columns": null,
      "grid_template_rows": null,
      "height": null,
      "justify_content": null,
      "justify_items": null,
      "left": null,
      "margin": null,
      "max_height": null,
      "max_width": null,
      "min_height": null,
      "min_width": null,
      "object_fit": null,
      "object_position": null,
      "order": null,
      "overflow": null,
      "overflow_x": null,
      "overflow_y": null,
      "padding": null,
      "right": null,
      "top": null,
      "visibility": null,
      "width": null
     }
    },
    "e364470e218d4840a1cc6ca38cd8ebe2": {
     "model_module": "@jupyter-widgets/base",
     "model_module_version": "1.2.0",
     "model_name": "LayoutModel",
     "state": {
      "_model_module": "@jupyter-widgets/base",
      "_model_module_version": "1.2.0",
      "_model_name": "LayoutModel",
      "_view_count": null,
      "_view_module": "@jupyter-widgets/base",
      "_view_module_version": "1.2.0",
      "_view_name": "LayoutView",
      "align_content": null,
      "align_items": null,
      "align_self": null,
      "border": null,
      "bottom": null,
      "display": null,
      "flex": null,
      "flex_flow": null,
      "grid_area": null,
      "grid_auto_columns": null,
      "grid_auto_flow": null,
      "grid_auto_rows": null,
      "grid_column": null,
      "grid_gap": null,
      "grid_row": null,
      "grid_template_areas": null,
      "grid_template_columns": null,
      "grid_template_rows": null,
      "height": null,
      "justify_content": null,
      "justify_items": null,
      "left": null,
      "margin": null,
      "max_height": null,
      "max_width": null,
      "min_height": null,
      "min_width": null,
      "object_fit": null,
      "object_position": null,
      "order": null,
      "overflow": null,
      "overflow_x": null,
      "overflow_y": null,
      "padding": null,
      "right": null,
      "top": null,
      "visibility": null,
      "width": null
     }
    },
    "f26bd1fb49214766ad23c9558d4abb22": {
     "model_module": "@jupyter-widgets/controls",
     "model_module_version": "1.5.0",
     "model_name": "DescriptionStyleModel",
     "state": {
      "_model_module": "@jupyter-widgets/controls",
      "_model_module_version": "1.5.0",
      "_model_name": "DescriptionStyleModel",
      "_view_count": null,
      "_view_module": "@jupyter-widgets/base",
      "_view_module_version": "1.2.0",
      "_view_name": "StyleView",
      "description_width": ""
     }
    },
    "f64d1f0b9de74880b40ac381ff755aea": {
     "model_module": "@jupyter-widgets/controls",
     "model_module_version": "1.5.0",
     "model_name": "DescriptionStyleModel",
     "state": {
      "_model_module": "@jupyter-widgets/controls",
      "_model_module_version": "1.5.0",
      "_model_name": "DescriptionStyleModel",
      "_view_count": null,
      "_view_module": "@jupyter-widgets/base",
      "_view_module_version": "1.2.0",
      "_view_name": "StyleView",
      "description_width": ""
     }
    }
   }
  }
 },
 "nbformat": 4,
 "nbformat_minor": 0
}
